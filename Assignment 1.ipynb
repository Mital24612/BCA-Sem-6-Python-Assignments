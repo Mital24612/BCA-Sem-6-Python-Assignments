{
 "cells": [
  {
   "cell_type": "markdown",
   "metadata": {},
   "source": [
    "# Assignment 1"
   ]
  },
  {
   "cell_type": "markdown",
   "metadata": {},
   "source": [
    "Program 1 Series Of Numbers"
   ]
  },
  {
   "cell_type": "code",
   "execution_count": 1,
   "metadata": {},
   "outputs": [
    {
     "name": "stdout",
     "output_type": "stream",
     "text": [
      "Enter upto number u want to print series : 17\n",
      "1,3,5,7,9,11,13,15,"
     ]
    }
   ],
   "source": [
    "i = int(input(\"Enter upto number u want to print series : \"))\n",
    "\n",
    "for i in range(1, i,2):\n",
    "    print (i, end = ',')"
   ]
  },
  {
   "cell_type": "markdown",
   "metadata": {},
   "source": [
    "Program 2 Series Of Numbers"
   ]
  },
  {
   "cell_type": "code",
   "execution_count": 2,
   "metadata": {},
   "outputs": [
    {
     "name": "stdout",
     "output_type": "stream",
     "text": [
      "10,8,6,4,2,0,"
     ]
    }
   ],
   "source": [
    "for i in range(10,-1,-2):\n",
    "    print (i, end = ',')"
   ]
  },
  {
   "cell_type": "markdown",
   "metadata": {},
   "source": [
    "Program 3 Fibonacci Series Of Numbers"
   ]
  },
  {
   "cell_type": "code",
   "execution_count": 3,
   "metadata": {},
   "outputs": [
    {
     "name": "stdout",
     "output_type": "stream",
     "text": [
      "Enter No : 7\n",
      "0\n",
      "1\n",
      "1 2 3 5 8 "
     ]
    }
   ],
   "source": [
    "def fibonacci_recursion(n,current_number=0,next_number=1):\n",
    "    if n==1:\n",
    "        return 0\n",
    "    if current_number == 0:\n",
    "        print (current_number)\n",
    "        print (next_number)\n",
    "    else:\n",
    "        print(next_number, end=\" \")\n",
    "    no = next_number\n",
    "    next_number = current_number + next_number\n",
    "    current_number = no\n",
    "    fibonacci_recursion(n-1,current_number,next_number)\n",
    "\n",
    "no = input(\"Enter No : \")\n",
    "fibonacci_recursion(int(no))"
   ]
  },
  {
   "cell_type": "markdown",
   "metadata": {},
   "source": [
    "Program 4 Series Of Numbers"
   ]
  },
  {
   "cell_type": "code",
   "execution_count": 4,
   "metadata": {},
   "outputs": [
    {
     "name": "stdout",
     "output_type": "stream",
     "text": [
      "Enter numbers of steps : 7\n",
      "1,2,4,7,11,16,22,"
     ]
    }
   ],
   "source": [
    "n = int(input(\"Enter numbers of steps : \"))\n",
    "\n",
    "step = 1\n",
    "count = 1\n",
    "\n",
    "while step!=n+1:\n",
    "   print(count, end=\",\")\n",
    "   count += step\n",
    "   step +=1"
   ]
  },
  {
   "cell_type": "markdown",
   "metadata": {},
   "source": [
    "Program 5 Prime Numbers"
   ]
  },
  {
   "cell_type": "code",
   "execution_count": 5,
   "metadata": {},
   "outputs": [
    {
     "name": "stdout",
     "output_type": "stream",
     "text": [
      "-:: Program to get Prime Numbers :--\n",
      " Starting value more than 0: 1\n",
      " Ending value: 7\n",
      " 2   3   5   7  "
     ]
    }
   ],
   "source": [
    "print(\"-:: Program to get Prime Numbers :--\")\n",
    "\n",
    "minimum = int(input(\" Starting value more than 0: \"))\n",
    "maximum = int(input(\" Ending value: \"))\n",
    "\n",
    "for Number in range (minimum, maximum + 1):\n",
    "    count = 0\n",
    "    for i in range(2, (Number//2 + 1)):\n",
    "        if(Number % i == 0):\n",
    "            count = count + 1\n",
    "            break\n",
    "\n",
    "    if (count == 0 and Number != 1):\n",
    "        print(\" %d\" %Number, end = '  ')"
   ]
  },
  {
   "cell_type": "markdown",
   "metadata": {},
   "source": [
    "Program 6 Prime Numbers"
   ]
  },
  {
   "cell_type": "code",
   "execution_count": 6,
   "metadata": {},
   "outputs": [
    {
     "name": "stdout",
     "output_type": "stream",
     "text": [
      "Enter Number : 7\n",
      "7 is a Prime Number\n"
     ]
    }
   ],
   "source": [
    "n = int(input(\"Enter Number : \"))\n",
    "\n",
    "if n > 1:\n",
    "    for i in range(2, n//2):\n",
    "        if(n % i) == 0:\n",
    "            print(n, \"is NOT a Prime Number !\")\n",
    "            break\n",
    "        else:\n",
    "            print(n, \"is a Prime Number\")\n",
    "else:\n",
    "    print(n,\"is NOT a Prime Number !\")"
   ]
  },
  {
   "cell_type": "markdown",
   "metadata": {},
   "source": [
    "Program 7 Leap year Finder"
   ]
  },
  {
   "cell_type": "code",
   "execution_count": 7,
   "metadata": {},
   "outputs": [
    {
     "name": "stdout",
     "output_type": "stream",
     "text": [
      "Enter Year : 2020\n",
      "The year is a leap year!\n"
     ]
    }
   ],
   "source": [
    "year = int(input(\"Enter Year : \"))\n",
    "\n",
    "if(year % 4 == 0 and year % 100 != 0 or year % 400 == 0):\n",
    "    print(\"The year is a leap year!\")\n",
    "else:\n",
    "    print(\"The year is not a leap year!\")"
   ]
  },
  {
   "cell_type": "markdown",
   "metadata": {},
   "source": [
    "Program 8 Date day Finder"
   ]
  },
  {
   "cell_type": "code",
   "execution_count": 8,
   "metadata": {},
   "outputs": [
    {
     "name": "stdout",
     "output_type": "stream",
     "text": [
      "Day : 07\n",
      "Month : 07\n",
      "Year : 7000\n",
      "Monday\n"
     ]
    }
   ],
   "source": [
    "import datetime \n",
    "import calendar \n",
    "  \n",
    "def findDay(date): \n",
    "    born = datetime.datetime.strptime(date, '%d %m %Y').weekday() \n",
    "    return (calendar.day_name[born]) \n",
    "\n",
    "my_list = []\n",
    "\n",
    "d = str(input(\"Day : \"))\n",
    "my_list.append(d)\n",
    "m = str(input(\"Month : \"))\n",
    "my_list.append(m)\n",
    "y = str(input(\"Year : \"))\n",
    "my_list.append(y)\n",
    "\n",
    "date = ' '.join(map(str, my_list))\n",
    "\n",
    "print(findDay(date))\n",
    "\n",
    "#https://www.geeksforgeeks.org/python-program-to-find-day-of-the-week-for-a-given-date/"
   ]
  },
  {
   "cell_type": "markdown",
   "metadata": {},
   "source": [
    "Program 9 Pattern"
   ]
  },
  {
   "cell_type": "code",
   "execution_count": 9,
   "metadata": {},
   "outputs": [
    {
     "name": "stdout",
     "output_type": "stream",
     "text": [
      "1 \n",
      "1 2 \n",
      "1 2 3 \n",
      "1 2 3 4 \n",
      "1 2 3 4 5 \n"
     ]
    }
   ],
   "source": [
    "rows = 5\n",
    "for row in range(1, rows+1):\n",
    "    for column in range(1, row + 1):\n",
    "        print(column, end=' ')\n",
    "    print(\"\")\n",
    "\n",
    "#https://pynative.com/print-pattern-python-examples/"
   ]
  },
  {
   "cell_type": "markdown",
   "metadata": {},
   "source": [
    "Program 10 Pattern"
   ]
  },
  {
   "cell_type": "code",
   "execution_count": 10,
   "metadata": {},
   "outputs": [
    {
     "name": "stdout",
     "output_type": "stream",
     "text": [
      "1 \n",
      "2 1 \n",
      "3 2 1 \n",
      "4 3 2 1 \n",
      "5 4 3 2 1 \n"
     ]
    }
   ],
   "source": [
    "rows = 6\n",
    "for row in range(1, rows):\n",
    "    for column in range(row, 0, -1):\n",
    "        print(column, end=' ')\n",
    "    print(\"\")"
   ]
  },
  {
   "cell_type": "markdown",
   "metadata": {},
   "source": [
    "Program 11 Pattern"
   ]
  },
  {
   "cell_type": "code",
   "execution_count": 11,
   "metadata": {},
   "outputs": [
    {
     "name": "stdout",
     "output_type": "stream",
     "text": [
      "1 2 3 4 5 \n",
      "1 2 3 4 \n",
      "1 2 3 \n",
      "1 2 \n",
      "1 \n"
     ]
    }
   ],
   "source": [
    "rows = 5\n",
    "for i in range(rows):\n",
    "    for j in range(rows - i):\n",
    "        print(j+1, end=' ')\n",
    "    print()"
   ]
  },
  {
   "cell_type": "markdown",
   "metadata": {},
   "source": [
    "Program 12 Pattern"
   ]
  },
  {
   "cell_type": "code",
   "execution_count": 12,
   "metadata": {},
   "outputs": [
    {
     "name": "stdout",
     "output_type": "stream",
     "text": [
      "1 2 3 4 5 \n",
      "2 3 4 5 \n",
      "3 4 5 \n",
      "4 5 \n",
      "5 \n",
      "\n"
     ]
    }
   ],
   "source": [
    "rows = 5\n",
    "for i in range(0, rows + 1):\n",
    "    for j in range(i + 1, rows + 1):\n",
    "        print(j, end=' ')\n",
    "    print()"
   ]
  },
  {
   "cell_type": "markdown",
   "metadata": {},
   "source": [
    "Program 13 Pattern"
   ]
  },
  {
   "cell_type": "code",
   "execution_count": 13,
   "metadata": {},
   "outputs": [
    {
     "name": "stdout",
     "output_type": "stream",
     "text": [
      "5 4 3 2 1 \n",
      "5 4 3 2 \n",
      "5 4 3 \n",
      "5 4 \n",
      "5 \n"
     ]
    }
   ],
   "source": [
    "rows = 5\n",
    "for i in range(1,rows + 1):\n",
    "        for j in range(rows, i-1, -1):\n",
    "                print(j,end=\" \")\n",
    "        print()"
   ]
  },
  {
   "cell_type": "markdown",
   "metadata": {},
   "source": [
    "Program 14 Pattern"
   ]
  },
  {
   "cell_type": "code",
   "execution_count": 14,
   "metadata": {},
   "outputs": [
    {
     "name": "stdout",
     "output_type": "stream",
     "text": [
      "5 4 3 2 1 \n",
      "4 3 2 1 \n",
      "3 2 1 \n",
      "2 1 \n",
      "1 \n",
      "\n"
     ]
    }
   ],
   "source": [
    "rows = 5\n",
    "for i in range(0, rows + 1):\n",
    "    for j in range(rows - i, 0, -1):\n",
    "        print(j, end=' ')\n",
    "    print()"
   ]
  },
  {
   "cell_type": "markdown",
   "metadata": {},
   "source": [
    "Program 15 Pattern"
   ]
  },
  {
   "cell_type": "code",
   "execution_count": 15,
   "metadata": {},
   "outputs": [
    {
     "name": "stdout",
     "output_type": "stream",
     "text": [
      "1 \n",
      "2 2 \n",
      "3 3 3 \n",
      "4 4 4 4 \n",
      "5 5 5 5 5 \n"
     ]
    }
   ],
   "source": [
    "rows = 5\n",
    "for i in range(1, rows + 1):\n",
    "    for j in range(1, i + 1):\n",
    "        print(i, end=\" \")\n",
    "    print()"
   ]
  },
  {
   "cell_type": "markdown",
   "metadata": {},
   "source": [
    "Program 16 Pattern"
   ]
  },
  {
   "cell_type": "code",
   "execution_count": 16,
   "metadata": {},
   "outputs": [
    {
     "name": "stdout",
     "output_type": "stream",
     "text": [
      "5 \n",
      "4 4 \n",
      "3 3 3 \n",
      "2 2 2 2 \n",
      "1 1 1 1 1 \n"
     ]
    }
   ],
   "source": [
    "rows = 5\n",
    "for i in range(rows,0,-1):\n",
    "    for j in range(-1,rows-i):\n",
    "        print(i,end=\" \")\n",
    "    print()"
   ]
  },
  {
   "cell_type": "markdown",
   "metadata": {},
   "source": [
    "Program 17"
   ]
  },
  {
   "cell_type": "markdown",
   "metadata": {},
   "source": [
    "Program 18 Bubble Sort using LIST"
   ]
  },
  {
   "cell_type": "code",
   "execution_count": 17,
   "metadata": {},
   "outputs": [
    {
     "name": "stdout",
     "output_type": "stream",
     "text": [
      "Enter the size of List : 7\n",
      "Enter the list numbers separated by space : 98 87 76 65 38 21 7\n",
      "User List :  [98, 87, 76, 65, 38, 21, 7]\n",
      "Sorted List :\n",
      "7 21 38 65 76 87 98 "
     ]
    }
   ],
   "source": [
    "#Using the map function to get user values in list\n",
    "n = int(input(\"Enter the size of List : \"))\n",
    "a = list(map(int, input(\"Enter the list numbers separated by space : \").strip().split()))[:n]\n",
    "print(\"User List : \", a)\n",
    "\n",
    "# An optimized version of Bubble Sort \n",
    "def bubbleSort(a): \n",
    "    n = len(a) \n",
    "\n",
    "    # Traverse through all array elements \n",
    "    for i in range(n): \n",
    "        swapped = False\n",
    "\n",
    "        # Last i elements are already \n",
    "        # in place \n",
    "        for j in range(0, n-i-1): \n",
    "\n",
    "            # traverse the array from 0 to \n",
    "            # n-i-1. Swap if the element \n",
    "            # found is greater than the \n",
    "            # next element \n",
    "            if a[j] > a[j+1] : \n",
    "                a[j], a[j+1] = a[j+1], a[j] \n",
    "                swapped = True\n",
    "\n",
    "        # IF no two elements were swapped \n",
    "        # by inner loop, then break \n",
    "        if swapped == False: \n",
    "            break\n",
    "\n",
    "bubbleSort(a) \n",
    "\n",
    "print (\"Sorted List :\") \n",
    "for i in range(len(a)): \n",
    "    print (\"%d\" %a[i],end=\" \")"
   ]
  },
  {
   "cell_type": "markdown",
   "metadata": {},
   "source": [
    "Program 19 Palindrome Number"
   ]
  },
  {
   "cell_type": "code",
   "execution_count": 18,
   "metadata": {},
   "outputs": [
    {
     "name": "stdout",
     "output_type": "stream",
     "text": [
      "Enter a number:777\n",
      "The number is palindrome!\n"
     ]
    }
   ],
   "source": [
    "num=int(input(\"Enter a number:\"))\n",
    "temp=num\n",
    "rev=0\n",
    "while(num>0):\n",
    "    dig=num%10\n",
    "    rev=rev*10+dig\n",
    "    num=num//10\n",
    "if(temp==rev):\n",
    "    print(\"The number is palindrome!\")\n",
    "else:\n",
    "    print(\"Not a palindrome!\")"
   ]
  },
  {
   "cell_type": "markdown",
   "metadata": {},
   "source": [
    "Program 20 Palindrome String"
   ]
  },
  {
   "cell_type": "code",
   "execution_count": 19,
   "metadata": {},
   "outputs": [
    {
     "name": "stdout",
     "output_type": "stream",
     "text": [
      "Enter a string:RACECAR\n",
      "The string is a palindrome\n"
     ]
    }
   ],
   "source": [
    "string=input((\"Enter a string:\"))\n",
    "if(string==string[::-1]):\n",
    "      print(\"The string is a palindrome\")\n",
    "else:\n",
    "      print(\"Not a palindrome\")"
   ]
  }
 ],
 "metadata": {
  "kernelspec": {
   "display_name": "Python 3",
   "language": "python",
   "name": "python3"
  },
  "language_info": {
   "codemirror_mode": {
    "name": "ipython",
    "version": 3
   },
   "file_extension": ".py",
   "mimetype": "text/x-python",
   "name": "python",
   "nbconvert_exporter": "python",
   "pygments_lexer": "ipython3",
   "version": "3.7.6"
  }
 },
 "nbformat": 4,
 "nbformat_minor": 4
}
